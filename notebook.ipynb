{
 "cells": [
  {
   "cell_type": "markdown",
   "id": "146b582b-e1ab-4780-8ad8-c54d55e2bd7a",
   "metadata": {
    "dc": {
     "key": "4"
    },
    "run_control": {
     "frozen": true
    },
    "tags": [
     "context"
    ]
   },
   "source": [
    "## 1. Background to the project and data loading. \n",
    "<p><img src=\"https://assets.datacamp.com/production/project_1237/img/netflix.jpg\" alt=\"Someone's feet on table facing a television\"></p>\n",
    "<p>Netflix! What started in 1997 as a DVD rental service has since exploded into the largest entertainment/media company by <a href=\"https://www.marketwatch.com/story/netflix-shares-close-up-8-for-yet-another-record-high-2020-07-10\">market capitalization</a>, boasting over 200 million subscribers as of <a href=\"https://www.cbsnews.com/news/netflix-tops-200-million-subscribers-but-faces-growing-challenge-from-disney-plus/\">January 2021</a>.</p>\n",
    "<p>Our friend works with a team and they have taken a first crack at a CSV file containing Netflix data. For their first order of business, they have been performing some analyses, and they believe that the average duration of movies has been declining. </p>\n",
    "<p>As evidence of this, they have provided us with the following information. For the years from 2011 to 2020, the average movie durations are 103, 101, 99, 100, 100, 95, 95, 96, 93, and 90, respectively.</p>\n",
    "<p>We are going to be working with this data to see how the movie duration behaves given time."
   ]
  },
  {
   "cell_type": "code",
   "execution_count": 1,
   "id": "ef8152ec-6fb3-4eaa-a6c5-880b778cb28d",
   "metadata": {
    "dc": {
     "key": "4"
    },
    "executionTime": 236,
    "lastSuccessfullyExecutedCode": "# Creating the years and durations lists\nimport numpy as np\nyears = [2011, 2012, 2013, 2014, 2015, 2016, 2017, 2018, 2019, 2020]\ndurations = [103, 101, 99, 100, 100, 95, 95, 96, 93, 90]\n\n# Creating a dictionary with the two lists\nmovie_dict = {\"years\" : [2011, 2012, 2013, 2014, 2015, 2016, 2017, 2018, 2019, 2020],\n              \"durations\" : [103, 101, 99, 100, 100, 95, 95, 96, 93,90]}\n\n# Viewing the dictionary\nprint (movie_dict)",
    "tags": [
     "sample_code"
    ]
   },
   "outputs": [
    {
     "name": "stdout",
     "output_type": "stream",
     "text": [
      "{'years': [2011, 2012, 2013, 2014, 2015, 2016, 2017, 2018, 2019, 2020], 'durations': [103, 101, 99, 100, 100, 95, 95, 96, 93, 90]}\n"
     ]
    }
   ],
   "source": [
    "# Creating the years and durations lists\n",
    "import numpy as np\n",
    "years = [2011, 2012, 2013, 2014, 2015, 2016, 2017, 2018, 2019, 2020]\n",
    "durations = [103, 101, 99, 100, 100, 95, 95, 96, 93, 90]\n",
    "\n",
    "# Creating a dictionary with the two lists\n",
    "movie_dict = {\"years\" : [2011, 2012, 2013, 2014, 2015, 2016, 2017, 2018, 2019, 2020],\n",
    "              \"durations\" : [103, 101, 99, 100, 100, 95, 95, 96, 93,90]}\n",
    "\n",
    "# Viewing the dictionary\n",
    "print (movie_dict)"
   ]
  },
  {
   "cell_type": "markdown",
   "id": "fb00e24d-3d6e-483c-8cec-665a89cc83f3",
   "metadata": {
    "dc": {
     "key": "11"
    },
    "run_control": {
     "frozen": true
    },
    "tags": [
     "context"
    ]
   },
   "source": [
    "## 2. Creating a DataFrame from a dictionary\n",
    "<p>To convert our dictionary <code>movie_dict</code> to a <code>pandas</code> DataFrame, we will first need to import the library under its usual alias. We'll also want to inspect our DataFrame to ensure it was created correctly. Let's perform these steps now.</p>"
   ]
  },
  {
   "cell_type": "code",
   "execution_count": 2,
   "id": "a59f11dd-5b24-4c8c-b448-1d6b06186c9d",
   "metadata": {
    "dc": {
     "key": "11"
    },
    "executionTime": 74,
    "lastSuccessfullyExecutedCode": "# Importing pandas under its usual alias\nimport pandas as pd\n\n# Creating a DataFrame from the dictionary\ndurations_df = pd.DataFrame(movie_dict)\n\n# Viewing the DataFrame\nprint (durations_df)",
    "tags": [
     "sample_code"
    ]
   },
   "outputs": [
    {
     "name": "stdout",
     "output_type": "stream",
     "text": [
      "   years  durations\n",
      "0   2011        103\n",
      "1   2012        101\n",
      "2   2013         99\n",
      "3   2014        100\n",
      "4   2015        100\n",
      "5   2016         95\n",
      "6   2017         95\n",
      "7   2018         96\n",
      "8   2019         93\n",
      "9   2020         90\n"
     ]
    }
   ],
   "source": [
    "# Importing pandas under its usual alias\n",
    "import pandas as pd\n",
    "\n",
    "# Creating a DataFrame from the dictionary\n",
    "durations_df = pd.DataFrame(movie_dict)\n",
    "\n",
    "# Viewing the DataFrame\n",
    "print (durations_df)"
   ]
  },
  {
   "cell_type": "markdown",
   "id": "63823f49-3bfc-4a3a-b64e-e6b5cc2ab809",
   "metadata": {
    "dc": {
     "key": "18"
    },
    "run_control": {
     "frozen": true
    },
    "tags": [
     "context"
    ]
   },
   "source": [
    "## 3. A visual inspection of the data\n",
    "<p>Alright, we now have a <code>pandas</code> DataFrame, the most common way to work with tabular data in Python. Now back to the task at hand. We want to follow up on our friend's assertion that movie lengths have been decreasing over time. A great place to start will be a visualization of the data.</p>\n",
    "<p>Given that the data is continuous, a line plot would be a good choice, with the dates represented along the x-axis and the average length in minutes along the y-axis. This will allow us to easily spot any trends in movie durations. There are many ways to visualize data in Python, but <code>matploblib.pyplot</code> is one of the most common packages to do so.</p>"
   ]
  },
  {
   "cell_type": "code",
   "execution_count": 3,
   "id": "4596566c-51e0-4884-a4d0-97ef614dff5b",
   "metadata": {
    "dc": {
     "key": "18"
    },
    "executionTime": 2696,
    "lastSuccessfullyExecutedCode": "# Importing matplotlib.pyplot under its usual alias and create a figure\nimport matplotlib.pyplot as plt\nfig = plt.figure()\n\n# Drawing a line plot of release_years and durations\nplt.plot(durations_df[\"years\"], durations_df[\"durations\"])\n# Create a title\nplt.ylabel(\"Average length in minutes\")\nplt.xlabel(\"Years\")\nplt.title(\"Netflix Movie Durations 2011-2020\")\n\n# Showing the plot\nplt.show()",
    "tags": [
     "sample_code"
    ]
   },
   "outputs": [
    {
     "data": {
      "image/png": "[encoded data removed]",
      "text/plain": [
       "<Figure size 432x288 with 1 Axes>"
      ]
     },
     "metadata": {
      "needs_background": "light"
     },
     "output_type": "display_data"
    }
   ],
   "source": [
    "# Importing matplotlib.pyplot under its usual alias and create a figure\n",
    "import matplotlib.pyplot as plt\n",
    "fig = plt.figure()\n",
    "\n",
    "# Drawing a line plot of release_years and durations\n",
    "plt.plot(durations_df[\"years\"], durations_df[\"durations\"])\n",
    "# Create a title\n",
    "plt.ylabel(\"Average length in minutes\")\n",
    "plt.xlabel(\"Years\")\n",
    "plt.title(\"Netflix Movie Durations 2011-2020\")\n",
    "\n",
    "# Showing the plot\n",
    "plt.show()"
   ]
  },
  {
   "cell_type": "markdown",
   "id": "2e6c6895-7fc9-434b-acf2-708d76890157",
   "metadata": {
    "dc": {
     "key": "25"
    },
    "run_control": {
     "frozen": true
    },
    "tags": [
     "context"
    ]
   },
   "source": [
    "## 4. Loading the rest of the data from a CSV\n",
    "<p>Well, it looks like there is something to the idea that movie lengths have decreased over the past ten years! But equipped only with our friend's aggregations, we're limited in the further explorations we can perform. There are a few questions about this trend that we are currently unable to answer, including:</p>\n",
    "<ol>\n",
    "<li>What does this trend look like over a longer period of time?</li>\n",
    "<li>Is this explainable by something like the genre of entertainment?</li>\n",
    "</ol>\n",
    "<p>Upon asking our friend for the original CSV they used to perform their analyses, they gladly oblige and send it. We now have access to the CSV file, available at the path <code>\"datasets/netflix_data.csv\"</code>. Let's create another DataFrame, this time with all of the data. Given the length of our friend's data, printing the whole DataFrame is probably not a good idea, so we will inspect it by printing only the first five rows.</p>"
   ]
  },
  {
   "cell_type": "code",
   "execution_count": 5,
   "id": "17cef769-0847-418d-8586-47337c32b6f8",
   "metadata": {
    "dc": {
     "key": "25"
    },
    "executionTime": 85,
    "lastSuccessfullyExecutedCode": "# Reading in the CSV as a DataFrame\nnetflix_df = pd.read_csv(r\"datasets/netflix_data.csv\")\nnetflix_df = pd.DataFrame(netflix_df)\n\n# Printing the first five rows of the DataFrame\nprint(netflix_df[:5])",
    "scrolled": true,
    "tags": [
     "sample_code"
    ]
   },
   "outputs": [
    {
     "name": "stdout",
     "output_type": "stream",
     "text": [
      "  show_id     type  title           director  \\\n",
      "0      s1  TV Show     3%                NaN   \n",
      "1      s2    Movie   7:19  Jorge Michel Grau   \n",
      "2      s3    Movie  23:59       Gilbert Chan   \n",
      "3      s4    Movie      9        Shane Acker   \n",
      "4      s5    Movie     21     Robert Luketic   \n",
      "\n",
      "                                                cast        country  \\\n",
      "0  João Miguel, Bianca Comparato, Michel Gomes, R...         Brazil   \n",
      "1  Demián Bichir, Héctor Bonilla, Oscar Serrano, ...         Mexico   \n",
      "2  Tedd Chan, Stella Chung, Henley Hii, Lawrence ...      Singapore   \n",
      "3  Elijah Wood, John C. Reilly, Jennifer Connelly...  United States   \n",
      "4  Jim Sturgess, Kevin Spacey, Kate Bosworth, Aar...  United States   \n",
      "\n",
      "          date_added  release_year  duration  \\\n",
      "0    August 14, 2020          2020         4   \n",
      "1  December 23, 2016          2016        93   \n",
      "2  December 20, 2018          2011        78   \n",
      "3  November 16, 2017          2009        80   \n",
      "4    January 1, 2020          2008       123   \n",
      "\n",
      "                                         description             genre  \n",
      "0  In a future where the elite inhabit an island ...  International TV  \n",
      "1  After a devastating earthquake hits Mexico Cit...            Dramas  \n",
      "2  When an army recruit is found dead, his fellow...     Horror Movies  \n",
      "3  In a postapocalyptic world, rag-doll robots hi...            Action  \n",
      "4  A brilliant group of students become card-coun...            Dramas  \n"
     ]
    }
   ],
   "source": [
    "# Reading in the CSV as a DataFrame\n",
    "netflix_df = pd.read_csv(\"netflix_data.csv\")\n",
    "netflix_df = pd.DataFrame(netflix_df)\n",
    "\n",
    "# Printing the first five rows of the DataFrame\n",
    "print(netflix_df[:5])"
   ]
  },
  {
   "cell_type": "markdown",
   "id": "4714622f-6aa6-4580-85ea-e6b9660ac273",
   "metadata": {
    "dc": {
     "key": "32"
    },
    "run_control": {
     "frozen": true
    },
    "tags": [
     "context"
    ]
   },
   "source": [
    "## 5. Filtering for movies!\n",
    "<p>Okay, we have our data! Now we can dive in and start looking at movie lengths. </p>\n",
    "<p>Or can we? Looking at the first five rows of our new DataFrame, we notice a column <code>type</code>. Scanning the column, it's clear there are also TV shows in the dataset! Moreover, the <code>duration</code> column we planned to use seems to represent different values depending on whether the row is a movie or a show (perhaps the number of minutes versus the number of seasons)?</p>\n",
    "<p>Fortunately, a DataFrame allows us to filter data quickly, and we can select rows where <code>type</code> is <code>Movie</code>. While we're at it, we don't need information from all of the columns, so let's create a new DataFrame <code>netflix_movies</code> containing only <code>title</code>, <code>country</code>, <code>genre</code>, <code>release_year</code>, and <code>duration</code>.</p>"
   ]
  },
  {
   "cell_type": "code",
   "execution_count": 6,
   "id": "fb961022-6c15-4066-ba9f-ae91d80f9c5d",
   "metadata": {
    "dc": {
     "key": "32"
    },
    "executionTime": 92,
    "lastSuccessfullyExecutedCode": "# Subsetting the DataFrame for type \"Movie\"\nnetflix_df_movies_only = netflix_df[netflix_df[\"type\"] == \"Movie\"]\n\n# Selecting only the columns of interest\nnetflix_movies_col_subset = netflix_df_movies_only[['title', 'country', 'genre', 'release_year', 'duration']]\n# Printing the first five rows of the new DataFrame\nprint (netflix_movies_col_subset[:5])",
    "tags": [
     "sample_code"
    ]
   },
   "outputs": [
    {
     "name": "stdout",
     "output_type": "stream",
     "text": [
      "   title        country          genre  release_year  duration\n",
      "1   7:19         Mexico         Dramas          2016        93\n",
      "2  23:59      Singapore  Horror Movies          2011        78\n",
      "3      9  United States         Action          2009        80\n",
      "4     21  United States         Dramas          2008       123\n",
      "6    122          Egypt  Horror Movies          2019        95\n"
     ]
    }
   ],
   "source": [
    "# Subsetting the DataFrame for type \"Movie\"\n",
    "netflix_df_movies_only = netflix_df[netflix_df[\"type\"] == \"Movie\"]\n",
    "\n",
    "# Selecting only the columns of interest\n",
    "netflix_movies_col_subset = netflix_df_movies_only[['title', 'country', 'genre', 'release_year', 'duration']]\n",
    "# Printing the first five rows of the new DataFrame\n",
    "print (netflix_movies_col_subset[:5])"
   ]
  },
  {
   "cell_type": "markdown",
   "id": "e9a8d42e-31fc-404a-bff6-323f5ad17f1d",
   "metadata": {
    "dc": {
     "key": "39"
    },
    "run_control": {
     "frozen": true
    },
    "tags": [
     "context"
    ]
   },
   "source": [
    "## 6. Creating a scatter plot\n",
    "<p>Okay, now we're getting somewhere. We've read in the raw data, selected rows of movies, and have limited our DataFrame to our columns of interest. Let's try visualizing the data again to inspect the data over a longer range of time.</p>\n",
    "<p>This time, we are no longer working with aggregates but instead with individual movies. A line plot is no longer a good choice for our data, so we try a scatter plot instead. We will again plot the year of release on the x-axis and the movie duration on the y-axis.</p>"
   ]
  },
  {
   "cell_type": "code",
   "execution_count": 11,
   "id": "54ec4495-867f-4607-a05a-9a6bb9660d47",
   "metadata": {
    "dc": {
     "key": "39"
    },
    "executionTime": 548,
    "lastSuccessfullyExecutedCode": "# Creating a figure and increase the figure size\nfig = plt.figure(figsize=(12,8))\n\n# Creating a scatter plot of duration versus year\nplt.scatter(netflix_movies_col_subset[\"release_year\"], netflix_movies_col_subset[\"duration\"])\n\n# Creating a title\nplt.title(\"Movie Duration by Year of Release\")\n\n# Showing the plot\nplt.show()",
    "scrolled": false,
    "tags": [
     "sample_code"
    ]
   },
   "outputs": [
    {
     "data": {
      "image/png": "[encoded data removed]",
      "text/plain": [
       "<Figure size 864x576 with 1 Axes>"
      ]
     },
     "metadata": {
      "needs_background": "light"
     },
     "output_type": "display_data"
    }
   ],
   "source": [
    "# Creating a figure and increase the figure size\n",
    "fig = plt.figure(figsize=(12,8))\n",
    "\n",
    "# Creating a scatter plot of duration versus year\n",
    "plt.scatter(netflix_movies_col_subset[\"release_year\"], netflix_movies_col_subset[\"duration\"])\n",
    "\n",
    "# Creating a title\n",
    "plt.title(\"Movie Duration by Year of Release\")\n",
    "plt.ylabel('Duration, Minutes')\n",
    "\n",
    "# Showing the plot\n",
    "plt.show()"
   ]
  },
  {
   "cell_type": "markdown",
   "id": "ca16006e-9be2-4f36-a54c-b928e2f528b7",
   "metadata": {
    "dc": {
     "key": "46"
    },
    "run_control": {
     "frozen": true
    },
    "tags": [
     "context"
    ]
   },
   "source": [
    "## 7. Digging deeper and finding what the cause\n",
    "<p>This is already much more informative than the simple plot we created when our friend first gave us some data. We can also see that, while newer movies are overrepresented on the platform, many short movies have been released in the past two decades.</p>\n",
    "<p>Upon further inspection, something else is going on. Some of these films are under an hour long! Let's filter our DataFrame for movies with a <code>duration</code> under 60 minutes and look at the genres. This might give us some insight into what is dragging down the average.</p>"
   ]
  },
  {
   "cell_type": "code",
   "execution_count": 8,
   "id": "bef41428-1bd9-4a76-b403-6715e3c3375b",
   "metadata": {
    "dc": {
     "key": "46"
    },
    "executionTime": 120,
    "lastSuccessfullyExecutedCode": "# Filtering for durations shorter than 60 minutes\nshort_movies = netflix_df_movies_only[['title', 'country', 'genre', 'release_year', 'duration']][netflix_movies_col_subset[\"duration\"] < 60]\n# Printing the first 20 rows of short_movies\nprint (short_movies[:20])",
    "scrolled": true,
    "tags": [
     "sample_code"
    ]
   },
   "outputs": [
    {
     "name": "stdout",
     "output_type": "stream",
     "text": [
      "                                                 title         country  \\\n",
      "35                                           #Rucker50   United States   \n",
      "55                 100 Things to do Before High School   United States   \n",
      "67   13TH: A Conversation with Oprah Winfrey & Ava ...             NaN   \n",
      "101                                  3 Seconds Divorce          Canada   \n",
      "146                                     A 3 Minute Hug          Mexico   \n",
      "162  A Christmas Special: Miraculous: Tales of Lady...          France   \n",
      "171                         A Family Reunion Christmas   United States   \n",
      "177                    A Go! Go! Cory Carson Christmas   United States   \n",
      "178                    A Go! Go! Cory Carson Halloween             NaN   \n",
      "179                  A Go! Go! Cory Carson Summer Camp             NaN   \n",
      "181             A Grand Night In: The Story of Aardman  United Kingdom   \n",
      "200                            A Love Song for Latasha   United States   \n",
      "220                         A Russell Peters Christmas          Canada   \n",
      "233                              A StoryBots Christmas   United States   \n",
      "237                             A Tale of Two Kitchens   United States   \n",
      "242                            A Trash Truck Christmas             NaN   \n",
      "247                            A Very Murray Christmas   United States   \n",
      "285                               Abominable Christmas   United States   \n",
      "295                                 Across Grace Alley   United States   \n",
      "305                Adam Devine: Best Time of Our Lives   United States   \n",
      "\n",
      "             genre  release_year  duration  \n",
      "35   Documentaries          2016        56  \n",
      "55   Uncategorized          2014        44  \n",
      "67   Uncategorized          2017        37  \n",
      "101  Documentaries          2018        53  \n",
      "146  Documentaries          2019        28  \n",
      "162  Uncategorized          2016        22  \n",
      "171  Uncategorized          2019        29  \n",
      "177       Children          2020        22  \n",
      "178       Children          2020        22  \n",
      "179       Children          2020        21  \n",
      "181  Documentaries          2015        59  \n",
      "200  Documentaries          2020        20  \n",
      "220       Stand-Up          2011        44  \n",
      "233       Children          2017        26  \n",
      "237  Documentaries          2019        30  \n",
      "242       Children          2020        28  \n",
      "247       Comedies          2015        57  \n",
      "285       Children          2012        44  \n",
      "295         Dramas          2013        24  \n",
      "305       Stand-Up          2019        59  \n"
     ]
    }
   ],
   "source": [
    "# Filtering for durations shorter than 60 minutes\n",
    "short_movies = netflix_df_movies_only[['title', 'country', 'genre', 'release_year', 'duration']][netflix_movies_col_subset[\"duration\"] < 60]\n",
    "# Printing the first 20 rows of short_movies\n",
    "print (short_movies[:20])"
   ]
  },
  {
   "cell_type": "markdown",
   "id": "e893756b-c574-4e08-bf5f-d7d153351332",
   "metadata": {
    "dc": {
     "key": "53"
    },
    "run_control": {
     "frozen": true
    },
    "tags": [
     "context"
    ]
   },
   "source": [
    "## 8. Marking non-feature films\n",
    "<p>Interesting! It looks as though many of the films that are under 60 minutes fall into genres such as \"Children\", \"Stand-Up\", and \"Documentaries\". This is a logical result, as these types of films are probably often shorter than 90 minute Hollywood blockbuster. </p>\n",
    "<p>We could eliminate these rows from our DataFrame and plot the values again. But another interesting way to explore the effect of these genres on our data would be to plot them, but mark them with a different color.</p>\n",
    "<p>In Python, there are many ways to do this, but one fun way might be to use a loop to generate a list of colors based on the contents of the <code>genre</code> column, we then pass this list to our plotting function in a later step to color all non-typical genres in a different color!</p>"
   ]
  },
  {
   "cell_type": "code",
   "execution_count": 14,
   "id": "b6ba8b2c-9663-40e1-8467-6b7121c56f37",
   "metadata": {
    "dc": {
     "key": "53"
    },
    "executionTime": 179,
    "lastSuccessfullyExecutedCode": "# Defineing an empty list\ncolors = []\n\n# Iterating over rows of netflix_movies_col_subset\nfor lab, row in netflix_movies_col_subset.iterrows():\n    if row['genre'] == \"Children\":\n        colors.append(\"red\")\n    elif row['genre'] == \"Documentaries\":\n        colors.append(\"blue\")\n    elif row['genre'] == \"Stand-Up\":\n        colors.append(\"green\")\n    else:\n        colors.append(\"black\")\n        \n# Inspecting the first 10 values in the list        \ncolors[0, 11] ",
    "tags": [
     "sample_code"
    ]
   },
   "outputs": [
    {
     "data": {
      "text/plain": [
       "['black',\n",
       " 'black',\n",
       " 'black',\n",
       " 'black',\n",
       " 'black',\n",
       " 'black',\n",
       " 'black',\n",
       " 'black',\n",
       " 'black',\n",
       " 'blue',\n",
       " 'black']"
      ]
     },
     "execution_count": 14,
     "metadata": {},
     "output_type": "execute_result"
    }
   ],
   "source": [
    "# Defineing an empty list\n",
    "colors = []\n",
    "\n",
    "# Iterating over rows of netflix_movies_col_subset\n",
    "for lab, row in netflix_movies_col_subset.iterrows():\n",
    "    if row['genre'] == \"Children\":\n",
    "        colors.append(\"red\")\n",
    "    elif row['genre'] == \"Documentaries\":\n",
    "        colors.append(\"blue\")\n",
    "    elif row['genre'] == \"Stand-Up\":\n",
    "        colors.append(\"green\")\n",
    "    else:\n",
    "        colors.append(\"black\")\n",
    "        \n",
    "# Inspecting the first 10 values in the list        \n",
    "colors[0: 11] "
   ]
  },
  {
   "cell_type": "markdown",
   "id": "b34ed9e0-fe7b-441b-964b-c43fe223a1fd",
   "metadata": {
    "dc": {
     "key": "60"
    },
    "run_control": {
     "frozen": true
    },
    "tags": [
     "context"
    ]
   },
   "source": [
    "## 9. Plotting with color!\n",
    "<p>We now have a <code>colors</code> list that we can pass to our scatter plot, which should allow us to visually inspect whether these genres might be responsible for the decline in the average duration of movies.</p>\n",
    "<p>This time, we'll also spruce up our plot with a new theme with <code>plt.style.use()</code>."
   ]
  },
  {
   "cell_type": "code",
   "execution_count": null,
   "id": "73d1c60c-7704-435c-9ed2-b65869412354",
   "metadata": {
    "dc": {
     "key": "60"
    },
    "executionCancelledAt": 1676426107834,
    "tags": [
     "sample_code"
    ]
   },
   "outputs": [],
   "source": [
    "# Setting the figure style and initalize a new figure\n",
    "plt.style.use('fivethirtyeight')\n",
    "fig = plt.figure(figsize=(12,8))\n",
    "\n",
    "# Creating a scatter plot of duration versus release_year\n",
    "plt.scatter(netflix_movies_col_subset[\"release_year\"], netflix_movies_col_subset[\"duration\"])\n",
    "\n",
    "# Creating a title and axis labels\n",
    "plt.title(\"Movie duration by year of release\")\n",
    "plt.xlabel (\"Release year\")\n",
    "plt.ylabel (\"Duration (min)\")\n",
    "\n",
    "# Showing the plot\n",
    "plt.show()"
   ]
  },
  {
   "cell_type": "markdown",
   "id": "bc751571-843f-46f1-b7af-bcbfdd17db2e",
   "metadata": {
    "dc": {
     "key": "67"
    },
    "run_control": {
     "frozen": true
    },
    "tags": [
     "context"
    ]
   },
   "source": [
    "## 10. Conclusion and further expectations\n",
    "<p>Well, as we suspected, non-typical genres such as children's movies and documentaries are all clustered around the bottom half of the plot. But we can't know for certain until we perform additional analyses. </p>\n"
   ]
  },
  {
   "cell_type": "code",
   "execution_count": null,
   "id": "038e39f6-d839-4d94-8dce-f92890bd08a5",
   "metadata": {
    "dc": {
     "key": "67"
    },
    "executionCancelledAt": 1676426107915,
    "jupyter": {
     "outputs_hidden": true
    },
    "tags": [
     "sample_code"
    ]
   },
   "outputs": [],
   "source": [
    "# Are we certain that movies are getting shorter?\n",
    "are_movies_getting_shorter = \"Yes, I agree that movies length are getting shorter recently.\""
   ]
  }
 ],
 "metadata": {
  "editor": "DataCamp Workspace",
  "kernelspec": {
   "display_name": "Python 3 (ipykernel)",
   "language": "python",
   "name": "python3"
  },
  "language_info": {
   "codemirror_mode": {
    "name": "ipython",
    "version": 3
   },
   "file_extension": ".py",
   "mimetype": "text/x-python",
   "name": "python",
   "nbconvert_exporter": "python",
   "pygments_lexer": "ipython3",
   "version": "3.9.7"
  }
 },
 "nbformat": 4,
 "nbformat_minor": 5
}
